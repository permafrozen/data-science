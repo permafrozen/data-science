{
 "cells": [
  {
   "cell_type": "markdown",
   "id": "27ee4069-943f-4536-8a31-669e8c9f93b2",
   "metadata": {
    "editable": true,
    "slideshow": {
     "slide_type": ""
    },
    "tags": []
   },
   "source": [
    "## Kapitel 02 Crach Kurs Python"
   ]
  },
  {
   "cell_type": "markdown",
   "id": "30c53577-6219-4914-8134-291ff98eec9a",
   "metadata": {},
   "source": [
    "Wie der Titel des Kapitel 2 verrät, handelt es sich nicht um einen vollständigen Pythonkurs, sondern um eine starkt verkürzte Einführung, speziell zugeschnitten für Data Science mit Machine Learnig Methoden. Es wird davon ausgegangen, dass der Leser bzw Leserin bereits über umfangreiche Programmierkenntnisse verfügt und maximal die Syntax für den Schüler neu ist. Es gibt zahlreiche gute Bücher und online Tutorials zu Python.\n",
    "Wir verwenden Python3 was den aktuellen Stand darstellt."
   ]
  },
  {
   "cell_type": "markdown",
   "id": "4f0c4506-cfd2-45ee-9753-36ae9e3b0a74",
   "metadata": {},
   "source": [
    "## 2.1 Das erste Python Program"
   ]
  },
  {
   "cell_type": "markdown",
   "id": "efe57e60-7f3d-4001-91e7-f02ad0ce20c4",
   "metadata": {},
   "source": [
    "Wie in jede Programmiersprache üblich, beginnen wir mit einem \"Hallo Welt\" Programm, dass soll mittlerweile Glück bringen. (Wer´s glaubt)"
   ]
  },
  {
   "cell_type": "code",
   "execution_count": 1,
   "id": "565b2e2d-3f6b-41d2-a7c4-be3e814b6502",
   "metadata": {},
   "outputs": [
    {
     "name": "stdout",
     "output_type": "stream",
     "text": [
      "Hallo Welt\n"
     ]
    }
   ],
   "source": [
    "print(\"Hallo Welt\")"
   ]
  },
  {
   "cell_type": "markdown",
   "id": "110cb707-c85e-4d4f-9c59-9b8658bb42e1",
   "metadata": {},
   "source": [
    "Man beachte, kein **Semikolon ;** nötig aber möglich. Alternativ hätte man auch `'Hallo Welt'` schreiben können."
   ]
  },
  {
   "cell_type": "code",
   "execution_count": 2,
   "id": "3383cc2c-a4b4-4885-a2b0-7713a598d8ad",
   "metadata": {},
   "outputs": [
    {
     "name": "stdout",
     "output_type": "stream",
     "text": [
      "\"Das ist Hallo Welt\" seht ihr den Unterschied?\"\n"
     ]
    }
   ],
   "source": [
    "print('\"Das ist Hallo Welt\" seht ihr den Unterschied?\"')"
   ]
  },
  {
   "cell_type": "code",
   "execution_count": 3,
   "id": "1d99eb32-80a0-47f4-86ff-14114fb22385",
   "metadata": {},
   "outputs": [
    {
     "name": "stdout",
     "output_type": "stream",
     "text": [
      "Und 'Ticks' kann man natürlich auch darstellen\n"
     ]
    }
   ],
   "source": [
    "print(\"Und 'Ticks' kann man natürlich auch darstellen\")"
   ]
  },
  {
   "cell_type": "markdown",
   "id": "958b4b76-a9d5-4414-9686-be0dfb91174c",
   "metadata": {},
   "source": [
    "Um eine Zeichenkette formatiert auszugeben gibt es mehrere Möglichkeit, ich werde im folgendem zwei Varianten kurz einführen, wobei die erste sehr ähnlich dem `printf()` von Java ist."
   ]
  },
  {
   "cell_type": "code",
   "execution_count": 4,
   "id": "b4e31607-59bf-4284-ad62-db3f09ede088",
   "metadata": {},
   "outputs": [
    {
     "name": "stdout",
     "output_type": "stream",
     "text": [
      "Der Schüler Franz der 4AHIT ist    17 Jahre alt und wiegt 78.6 Kilogramm\n"
     ]
    }
   ],
   "source": [
    "alter=17\n",
    "name=\"Franz\"\n",
    "gewicht=78.63\n",
    "print(\"Der Schüler %s der 4AHIT ist %5d Jahre alt und wiegt %.1f Kilogramm\" %(name,alter,gewicht))"
   ]
  },
  {
   "cell_type": "code",
   "execution_count": 5,
   "id": "4d614f97-3cc3-4264-a0c3-e8846d84ae3a",
   "metadata": {},
   "outputs": [
    {
     "name": "stdout",
     "output_type": "stream",
     "text": [
      "Der Schüler Franz der 4AHIT ist    17 Jahre alt und wiegt 78.6 Kilogramm\n"
     ]
    }
   ],
   "source": [
    "alter=17\n",
    "name=\"Franz\"\n",
    "gewicht=78.63\n",
    "print(\"Der Schüler {:s} der 4AHIT ist {:>5d} Jahre alt und wiegt {:.1f} Kilogramm\".format(name,alter,gewicht))"
   ]
  },
  {
   "cell_type": "code",
   "execution_count": 6,
   "id": "1aaf8d51-4537-4bfe-b1d8-1dd257b0d7e9",
   "metadata": {},
   "outputs": [
    {
     "name": "stdout",
     "output_type": "stream",
     "text": [
      "Franz Max       Maria\n",
      "Eva\n"
     ]
    }
   ],
   "source": [
    "# damit wir mehrere Zeichenketten in eine Zeile schreiben können, benötigen wir den Parameter end\n",
    "# default Wert von end=\\n\n",
    "print(\"Franz\", end=\" \")\n",
    "print(\"Max \", end=\"      \")\n",
    "print(\"Maria\")\n",
    "print(\"Eva\")"
   ]
  },
  {
   "attachments": {},
   "cell_type": "markdown",
   "id": "2da5d77d-a4c0-4af3-a6b5-5b617ff683a2",
   "metadata": {},
   "source": [
    "## 2.2 Kommentare"
   ]
  },
  {
   "cell_type": "code",
   "execution_count": 7,
   "id": "8a5146e6-4cb5-45ef-8820-aef6bb0177d8",
   "metadata": {},
   "outputs": [
    {
     "name": "stdout",
     "output_type": "stream",
     "text": [
      "Ich werde ausgeführt\n",
      "15\n"
     ]
    }
   ],
   "source": [
    "# Das ist ein einzeiliger Kommentar\n",
    "\n",
    "print(\"Ich werde ausgeführt\")\n",
    "\n",
    "\"\"\"Jetzt folgt\n",
    "ein mehrzeiliger \n",
    "Kommentar\n",
    "(Wenn man es genau nimmt, bin ich eigentlich nur eine mehrzeiliger String)\n",
    "\"\"\"\n",
    "a=7+8\n",
    "print(a)"
   ]
  },
  {
   "cell_type": "markdown",
   "id": "8ac50478-bca5-445e-922d-43ac50f14338",
   "metadata": {},
   "source": [
    "## 2.3 Variablen und Datentypen"
   ]
  },
  {
   "cell_type": "markdown",
   "id": "877a476f-5c9b-4928-b380-f794afad4b19",
   "metadata": {},
   "source": [
    "**Konvention für Variablenbezeichner**\n",
    "\n",
    "- Variablennamen dürfen nur Buchstaben, Ziffern und Unterstriche enthalten. Am Anfang darf keine Zahl stehen.\n",
    "- Leerzeichen sind nicht erlaubt.\n",
    "- Keine Python-Schlüsselwörter verwenden.\n",
    "- Verwendung von Groß und Kleinbuchstaben wie bei Java (Konstanten sind nur anhand der Bezeichner als Konstanten definierbar {es gibt keinen eigenen Typ wie final})."
   ]
  },
  {
   "cell_type": "markdown",
   "id": "84d89894-23b8-4685-9acc-01826c141df8",
   "metadata": {
    "tags": []
   },
   "source": [
    "Variablen können ohne **Datentyp** deklariert werden. Der Datentyp wird beim initialisieren festgelegt!!"
   ]
  },
  {
   "cell_type": "code",
   "execution_count": 12,
   "id": "eba6a472-d3b6-4bd4-ac16-425b482b85f4",
   "metadata": {
    "tags": []
   },
   "outputs": [],
   "source": [
    "a=8.5"
   ]
  },
  {
   "cell_type": "code",
   "execution_count": 11,
   "id": "3859e266-c31e-4862-9e02-68101b050abd",
   "metadata": {
    "tags": []
   },
   "outputs": [
    {
     "data": {
      "text/plain": [
       "float"
      ]
     },
     "execution_count": 11,
     "metadata": {},
     "output_type": "execute_result"
    }
   ],
   "source": [
    "type(a)"
   ]
  },
  {
   "cell_type": "markdown",
   "id": "b23b2828-de75-41a5-8f1f-e084fecfd745",
   "metadata": {},
   "source": [
    "Die Funktion type() gibt den Typen einer Variablen zurück"
   ]
  },
  {
   "cell_type": "markdown",
   "id": "0e019feb-6819-4cc7-8141-cdc1820d8f41",
   "metadata": {},
   "source": [
    "Nartürlich kann man auch den Datentyp extra angeben, was in vielen Situationen vernünftig/notwendig ist, aber der Datentyp geht **nicht** auf die Variable über, somit ist es möglich, andere Datentypen auf die selbe Variable zu speichern, siehe beim übernächsten Beispiel "
   ]
  },
  {
   "cell_type": "code",
   "execution_count": 10,
   "id": "3bae8d2e-34a5-4d4b-ac4f-662bc0d3a33e",
   "metadata": {},
   "outputs": [
    {
     "name": "stdout",
     "output_type": "stream",
     "text": [
      "8.0\n"
     ]
    },
    {
     "data": {
      "text/plain": [
       "float"
      ]
     },
     "execution_count": 10,
     "metadata": {},
     "output_type": "execute_result"
    }
   ],
   "source": [
    "b=float(8) #würde man nur b=8 eingeben, wäre der Datentyp von b ein Integer!\n",
    "print (b)\n",
    "type(b)"
   ]
  },
  {
   "cell_type": "code",
   "execution_count": 13,
   "id": "6818cbd8-08ba-4de7-8f19-9784af5af5e1",
   "metadata": {},
   "outputs": [
    {
     "name": "stdout",
     "output_type": "stream",
     "text": [
      "7.0 <class 'float'>\n",
      "Hallo <class 'str'>\n",
      "3.14\n",
      "{1, 2, 3, 4}\n"
     ]
    }
   ],
   "source": [
    "f= float(7) #Integer\n",
    "print(f,type(f))\n",
    "f=\"Hallo\" # String\n",
    "print(f,type(f))\n",
    "f=3.14 # Float\n",
    "print(f)\n",
    "f={1,2,3,4} #Set\n",
    "print(f)"
   ]
  },
  {
   "cell_type": "code",
   "execution_count": 20,
   "id": "1e355187-1f77-4273-b720-4d2bcb42f8ea",
   "metadata": {
    "tags": []
   },
   "outputs": [
    {
     "data": {
      "text/plain": [
       "float"
      ]
     },
     "execution_count": 20,
     "metadata": {},
     "output_type": "execute_result"
    }
   ],
   "source": [
    "b=7.8\n",
    "type(b)"
   ]
  },
  {
   "cell_type": "code",
   "execution_count": 13,
   "id": "ec76a0e7-8eb2-4fae-9994-eb49bdf71c86",
   "metadata": {},
   "outputs": [
    {
     "name": "stdout",
     "output_type": "stream",
     "text": [
      "(5, 6) <class 'tuple'>\n"
     ]
    }
   ],
   "source": [
    "c=5,6 #Achtung wenn man das Komma mit , macht handelt es sich nicht mehr um eine Fließkommazahl, sondern um ein Tupel\n",
    "print(c,type(c))"
   ]
  },
  {
   "cell_type": "code",
   "execution_count": 14,
   "id": "4449b9c7-40aa-49b1-b991-7de5183582d8",
   "metadata": {},
   "outputs": [
    {
     "name": "stdout",
     "output_type": "stream",
     "text": [
      "(5, 6, 0, 7)\n"
     ]
    }
   ],
   "source": [
    "d=5,6,0,7\n",
    "print(d)"
   ]
  },
  {
   "cell_type": "markdown",
   "id": "594665fc-ab95-4e34-9c96-eddf18e92b48",
   "metadata": {},
   "source": [
    "Mehrfachzuweisung sind auch möglich"
   ]
  },
  {
   "cell_type": "code",
   "execution_count": 21,
   "id": "39c51d57-5e42-41d6-8e5d-8ceb8391bd36",
   "metadata": {},
   "outputs": [
    {
     "name": "stdout",
     "output_type": "stream",
     "text": [
      "5 18.5 -43 Bin ein String\n",
      "<class 'int'> <class 'str'>\n",
      "3993 Sigma\n"
     ]
    }
   ],
   "source": [
    "a,b,c,d= 5,18.5,-43,\"Bin ein String\" #selbst mit unterscheidlichen Datentypen funktioniert das\n",
    "print(a,b,c,d)\n",
    "e,g = 3993, \"Sigma\"\n",
    "print(type(e), type(g))\n",
    "print(e,g)"
   ]
  },
  {
   "cell_type": "code",
   "execution_count": 16,
   "id": "67115c4b-09d2-43d4-80b3-fee861183d77",
   "metadata": {},
   "outputs": [],
   "source": [
    "c='r'"
   ]
  },
  {
   "cell_type": "code",
   "execution_count": 17,
   "id": "87eaca1b-fc3b-406d-8809-1aa7b838b022",
   "metadata": {
    "tags": []
   },
   "outputs": [
    {
     "data": {
      "text/plain": [
       "str"
      ]
     },
     "execution_count": 17,
     "metadata": {},
     "output_type": "execute_result"
    }
   ],
   "source": [
    "type (c)"
   ]
  },
  {
   "cell_type": "code",
   "execution_count": 18,
   "id": "ae4b719d-9fef-413c-a2a6-6dbdb92ab6b9",
   "metadata": {},
   "outputs": [
    {
     "name": "stdout",
     "output_type": "stream",
     "text": [
      "True\n"
     ]
    }
   ],
   "source": [
    "wahr=bool(1) # 0=false  1=true\n",
    "print(wahr)"
   ]
  },
  {
   "cell_type": "code",
   "execution_count": 24,
   "id": "1486781b-ebfc-4664-9e5b-35e4d05f29cf",
   "metadata": {},
   "outputs": [
    {
     "name": "stdout",
     "output_type": "stream",
     "text": [
      "False\n",
      "True\n"
     ]
    }
   ],
   "source": [
    "evil_smegma = bool(0)\n",
    "print(evil_smegma)\n",
    "evil = bool(1)\n",
    "print(evil)"
   ]
  },
  {
   "cell_type": "markdown",
   "id": "4a9f4368-4561-4f90-b011-1c08742687df",
   "metadata": {},
   "source": [
    "Welche Datentypen gibt es in Python?\n",
    "\n",
    "| Datentyp | Funktion | Beispiel |\n",
    "| :-:      | :-:    | :-:    |\n",
    "| int | ganze Zahl | x=3\n",
    "| float | Fließkommazahl | x=3.5\n",
    "| complex | komplexe Zahlen | x=3+4j\n",
    "| bool | boolesche Werte | x=bool (1)\n",
    "| str | Zeichenketten | x='abc'"
   ]
  },
  {
   "cell_type": "markdown",
   "id": "2b0e8ebe-02ac-492f-839c-6b33af01d701",
   "metadata": {},
   "source": [
    "Um Wert einzulesen gibt es die Funktion `input()` / In Java vergleichbar mit dem Scanner."
   ]
  },
  {
   "cell_type": "code",
   "execution_count": 31,
   "id": "6d09868f-aba3-4389-b9c0-ff14a9b2ca41",
   "metadata": {
    "editable": true,
    "slideshow": {
     "slide_type": ""
    },
    "tags": []
   },
   "outputs": [
    {
     "name": "stdin",
     "output_type": "stream",
     "text": [
      "Gebe eine Zahl ein:  20\n"
     ]
    },
    {
     "name": "stdout",
     "output_type": "stream",
     "text": [
      "202020\n"
     ]
    }
   ],
   "source": [
    "a=input(\"Gebe eine Zahl ein: \")\n",
    "a*=3 # a=3*a\n",
    "print(a)"
   ]
  },
  {
   "cell_type": "markdown",
   "id": "e18ba564-598c-4562-84f8-408785157345",
   "metadata": {},
   "source": [
    "Was ist da schief gegangen????\n",
    "Wenn man `input()`ohne Datentyp anwendet, wird automatisch vom Typ String ausgegangen."
   ]
  },
  {
   "cell_type": "code",
   "execution_count": 34,
   "id": "7c3d4a1d-3874-4a51-9d26-3dd0d4b3faa5",
   "metadata": {},
   "outputs": [
    {
     "name": "stdin",
     "output_type": "stream",
     "text": [
      "Geben Sie eine ganze Zahl ein! 230\n"
     ]
    },
    {
     "name": "stdout",
     "output_type": "stream",
     "text": [
      "1150\n"
     ]
    }
   ],
   "source": [
    "b=int(input(\"Geben Sie eine ganze Zahl ein!\"))\n",
    "b*=5\n",
    "print(b)"
   ]
  },
  {
   "cell_type": "code",
   "execution_count": 35,
   "id": "8d9bb598-7bcc-4e63-b2cc-7f98c3fba604",
   "metadata": {},
   "outputs": [
    {
     "name": "stdin",
     "output_type": "stream",
     "text": [
      "Geben Sie eine ganze Zahl ein! 20\n"
     ]
    },
    {
     "name": "stdout",
     "output_type": "stream",
     "text": [
      "100.0\n"
     ]
    }
   ],
   "source": [
    "#Alternative kann man auch wie folgt vorgehen\n",
    "c=input(\"Geben Sie eine ganze Zahl ein!\")\n",
    "c=float(c)\n",
    "c*=5\n",
    "print(c)"
   ]
  },
  {
   "cell_type": "markdown",
   "id": "cf826626-1f8e-40a1-89d1-d5c902799b36",
   "metadata": {},
   "source": [
    "### 2.3.1 Listen, Tupel und Dictionaries"
   ]
  },
  {
   "cell_type": "markdown",
   "id": "460b1155-ba54-4ca8-ab22-09ad38abfac9",
   "metadata": {},
   "source": [
    "#### 2.3.1.1 Listen"
   ]
  },
  {
   "cell_type": "markdown",
   "id": "dc60f170-fa9f-4460-be95-5b9ad52424da",
   "metadata": {},
   "source": [
    "Listen werden durch eckige Klammern oder mit der Funktion list() definiert und können aus Zahlenwerten, Zeichenketten und Variablen aufgebaut sein."
   ]
  },
  {
   "cell_type": "code",
   "execution_count": 45,
   "id": "62474fec-fbd5-44db-845a-bb19eeaaa4a8",
   "metadata": {},
   "outputs": [
    {
     "name": "stdout",
     "output_type": "stream",
     "text": [
      "[1, 3, 5, 7, 11, 13, 17, 19, 23]\n",
      "['Franz', 'Jasmine', 'Mirco', 'Claudia']\n",
      "['Hallo', 'Hi', 'Hello']\n",
      "['alpha', 'gamma']\n"
     ]
    }
   ],
   "source": [
    "prim=[1,3,5,7,11,13,17,19,23]\n",
    "print(prim)\n",
    "\n",
    "name1,name2, name3, name4=\"Franz\",\"Jasmine\", \"Mirco\",\"Claudia\"\n",
    "namenListe=list((name1,name2,name3,name4))\n",
    "print(namenListe)\n",
    "\n",
    "neueListe=[\"Hallo\",\"Hi\",\"Hello\"]\n",
    "print(neueListe)\n",
    "\n",
    "listeDesAlphas=list( (str(\"alpha\"), \"gamma\"))\n",
    "print(listeDesAlphas)"
   ]
  },
  {
   "cell_type": "markdown",
   "id": "f570a358-5aa0-446f-9963-4dcf3458e493",
   "metadata": {},
   "source": [
    "Es gibt verschiede Funktion um Listen nach der Erstellung zu bearbeiten.\n",
    "\n",
    "`append()` \n",
    "\n",
    "`insert()`\n",
    "\n",
    "`extend()`\n",
    "\n",
    "`del`\n",
    "\n",
    "`remove()`\n",
    "\n",
    "`pop()`\n",
    "\n",
    "`sort()`\n",
    "\n",
    "`sorted()`\n",
    "\n",
    "`reverse()`\n",
    "\n"
   ]
  },
  {
   "cell_type": "code",
   "execution_count": 78,
   "id": "a23e0c48-5149-47b8-a540-9722af802f91",
   "metadata": {},
   "outputs": [
    {
     "name": "stdout",
     "output_type": "stream",
     "text": [
      "['Alpha', 'Beta', 'Gamma', 'Delta']\n",
      "['Alpha', 'Beta', 'Gamma', 'Delta', 'Epsilon']\n",
      "['Alpha', 'Beta', 'INSERT', 'Gamma', 'Delta', 'Epsilon']\n",
      "['Alpha', 'Beta', 'Delta', 'Epsilon', 'Gamma', 'INSERT']\n",
      "['Alpha', 'Beta', 'Delta', 'Epsilon', 'Gamma']\n"
     ]
    },
    {
     "ename": "AttributeError",
     "evalue": "'list' object has no attribute 'sorted'",
     "output_type": "error",
     "traceback": [
      "\u001b[31m---------------------------------------------------------------------------\u001b[39m",
      "\u001b[31mAttributeError\u001b[39m                            Traceback (most recent call last)",
      "\u001b[36mCell\u001b[39m\u001b[36m \u001b[39m\u001b[32mIn[78]\u001b[39m\u001b[32m, line 11\u001b[39m\n\u001b[32m      9\u001b[39m evilList.pop();\n\u001b[32m     10\u001b[39m \u001b[38;5;28mprint\u001b[39m(evilList)\n\u001b[32m---> \u001b[39m\u001b[32m11\u001b[39m \u001b[43mevilList\u001b[49m\u001b[43m.\u001b[49m\u001b[43msorted\u001b[49m()\n",
      "\u001b[31mAttributeError\u001b[39m: 'list' object has no attribute 'sorted'"
     ]
    }
   ],
   "source": [
    "evilList = [\"Alpha\", \"Beta\", \"Gamma\", \"Delta\"]\n",
    "print(evilList);\n",
    "evilList.append(\"Epsilon\")\n",
    "print(evilList);\n",
    "evilList.insert(2, \"INSERT\")\n",
    "print(evilList);\n",
    "evilList.sort()\n",
    "print(evilList);\n",
    "evilList.pop();\n",
    "print(evilList)\n",
    "evi"
   ]
  },
  {
   "cell_type": "code",
   "execution_count": 6,
   "id": "cae648a9-296c-469a-a1aa-a2401bef8932",
   "metadata": {},
   "outputs": [
    {
     "name": "stdout",
     "output_type": "stream",
     "text": [
      "['Franz', 'Jasmine', 'Mirco', 'Claudia']\n",
      "['Franz', 'Jasmine', 'Mirco', 'Claudia', 'Christoph']\n"
     ]
    }
   ],
   "source": [
    "print(namenListe)\n",
    "namenListe.append('Christoph')\n",
    "print(namenListe)"
   ]
  },
  {
   "cell_type": "code",
   "execution_count": 7,
   "id": "b54fad57-ed3a-4ce9-850a-cb88cbe0dbb4",
   "metadata": {},
   "outputs": [
    {
     "name": "stdout",
     "output_type": "stream",
     "text": [
      "Christoph\n"
     ]
    }
   ],
   "source": [
    "print(namenListe[-1])\n"
   ]
  },
  {
   "cell_type": "code",
   "execution_count": 25,
   "id": "ec6c2707-33f8-458f-957b-0b6e77084d5c",
   "metadata": {},
   "outputs": [
    {
     "name": "stdout",
     "output_type": "stream",
     "text": [
      "['Markus', 'Franz', 'Jasmine', 'Mirco', 'Claudia', 'Christoph']\n"
     ]
    }
   ],
   "source": [
    "namenListe.insert(0,'Markus')\n",
    "print(namenListe)"
   ]
  },
  {
   "cell_type": "code",
   "execution_count": 26,
   "id": "c17fbe49-0b0c-4fbd-a377-d57099b32e5e",
   "metadata": {},
   "outputs": [
    {
     "name": "stdout",
     "output_type": "stream",
     "text": [
      "['Markus', 'Franz', 'Jasmine', 'Mirco', 'Claudia', 'Christoph', 'Maria', 'Josef', 'Ali']\n"
     ]
    }
   ],
   "source": [
    "gruppe2=[\"Maria\",\"Josef\",\"Ali\"]\n",
    "\n",
    "namenListe.extend(gruppe2)\n",
    "\n",
    "print(namenListe)"
   ]
  },
  {
   "cell_type": "code",
   "execution_count": 27,
   "id": "7ad88d82-9f97-4ec1-8751-60a68835b0be",
   "metadata": {},
   "outputs": [
    {
     "name": "stdout",
     "output_type": "stream",
     "text": [
      "9\n",
      "['Markus', 'Jasmine', 'Mirco', 'Claudia', 'Christoph', 'Maria', 'Josef', 'Ali']\n",
      "8\n"
     ]
    }
   ],
   "source": [
    "print(len(namenListe)) #len() gibt die Länge der Liste zurück\n",
    "del namenListe[1]\n",
    "print(namenListe)\n",
    "print(len(namenListe))"
   ]
  },
  {
   "cell_type": "markdown",
   "id": "3bdf81d4-0223-4a0e-ad28-146f9a4b9c1b",
   "metadata": {},
   "source": [
    "Wenn man nicht weiß, an welcher Stelle sich das zu löschende Element befindet, aber man desen genauen Namen (Wert) weiß, dann hilft die Funktion `remove`."
   ]
  },
  {
   "cell_type": "code",
   "execution_count": 28,
   "id": "c4980885-1679-408a-8073-1347e90e09e2",
   "metadata": {},
   "outputs": [
    {
     "name": "stdout",
     "output_type": "stream",
     "text": [
      "['Markus', 'Jasmine', 'Mirco', 'Claudia', 'Christoph', 'Maria', 'Josef', 'Ali']\n",
      "['Markus', 'Jasmine', 'Mirco', 'Claudia', 'Christoph', 'Josef', 'Ali']\n"
     ]
    }
   ],
   "source": [
    "print(namenListe)\n",
    "namenListe.remove('Maria')\n",
    "print(namenListe)"
   ]
  },
  {
   "cell_type": "markdown",
   "id": "6927fa0c-a54a-4813-8437-e12e8e273efa",
   "metadata": {},
   "source": [
    "Was macht `pop()`? "
   ]
  },
  {
   "cell_type": "code",
   "execution_count": 29,
   "id": "31389ce4-1f90-4644-939c-c738837a68e0",
   "metadata": {},
   "outputs": [
    {
     "name": "stdout",
     "output_type": "stream",
     "text": [
      "['Markus', 'Jasmine', 'Mirco', 'Claudia', 'Christoph', 'Josef']\n",
      "Ali\n"
     ]
    }
   ],
   "source": [
    "delElement=namenListe.pop()\n",
    "print(namenListe)\n",
    "print(delElement)"
   ]
  },
  {
   "cell_type": "markdown",
   "id": "8b115a34-3d20-4ccb-944d-83a6bc6061ac",
   "metadata": {},
   "source": [
    "pop() löscht das Element gibt es aber vorher noch einmal aus."
   ]
  },
  {
   "cell_type": "markdown",
   "id": "e8d25933-6a71-4918-87e9-cf9be03280fb",
   "metadata": {},
   "source": [
    "`sort()` `sorted()` `reverse()` dienen alle 3 zum sortieren einer Liste, wobei `sorted()` nur vorübergehend sortiert.\n"
   ]
  },
  {
   "cell_type": "code",
   "execution_count": 30,
   "id": "d3f882d3-d657-4031-9e48-aa9a6d32074a",
   "metadata": {},
   "outputs": [
    {
     "name": "stdout",
     "output_type": "stream",
     "text": [
      "['z', 'd', 'f', 'p']\n",
      "['d', 'f', 'p', 'z']\n",
      "['z', 'd', 'f', 'p']\n",
      "\n",
      "['d', 'f', 'p', 'z']\n",
      "\n",
      "['z', 'p', 'f', 'd']\n"
     ]
    }
   ],
   "source": [
    "unsortierteListe=['z','d','f','p']\n",
    "\n",
    "print(unsortierteListe)\n",
    "print(sorted(unsortierteListe))\n",
    "print(unsortierteListe)\n",
    "print()\n",
    "\n",
    "unsortierteListe.sort()\n",
    "print(unsortierteListe)\n",
    "print()\n",
    "\n",
    "unsortierteListe.reverse()\n",
    "print(unsortierteListe)\n"
   ]
  },
  {
   "cell_type": "markdown",
   "id": "8ed3d3a0-6d4c-4566-9cfd-a11e6c9ca907",
   "metadata": {},
   "source": [
    "Etwas ganz wichtiges beim aufbereiten von Daten in Python ist das sogenannte **Slicing**.\n",
    "Was klar sein sollte, ist wie man auf einzelne Elemente zugreifen kann, dabei ist vielleicht für einige neu, dass man auch von hinten beginnen kann zum zählen. Beispielsweise kann man auf das vorletze Element einer List mit nameListe[-2] zugreifen. **Slicing** benützt man, wenn man mehr Elemente gleichzeitig ansprechen möchte, z.B. wenn man jedes 3 Element ausgeben will."
   ]
  },
  {
   "cell_type": "code",
   "execution_count": 89,
   "id": "b2b0f1e2-4820-42c0-b6e2-327cd247776f",
   "metadata": {},
   "outputs": [
    {
     "name": "stdout",
     "output_type": "stream",
     "text": [
      "Christoph\n",
      "['Markus', 'Jasmine', 'Mirco']\n"
     ]
    }
   ],
   "source": [
    "print(namenListe[-2])\n",
    "\n",
    "print(namenListe[:3]) # ebenfalls möglich ist namenListe[0:3]"
   ]
  },
  {
   "cell_type": "code",
   "execution_count": 32,
   "id": "8363f9ae-1931-4fdd-afa2-bef1f1240d4b",
   "metadata": {},
   "outputs": [
    {
     "name": "stdout",
     "output_type": "stream",
     "text": [
      "['Mirco', 'Claudia']\n"
     ]
    }
   ],
   "source": [
    "print(namenListe[2:4])"
   ]
  },
  {
   "cell_type": "markdown",
   "id": "982aac81-67b7-45aa-b6c2-335da1f99910",
   "metadata": {},
   "source": [
    "Wie man aus dem letzten Beispiel sieht, ist die Startzahl (Stelle) inklusive und die Endstelle exklusive."
   ]
  },
  {
   "cell_type": "code",
   "execution_count": 33,
   "id": "d6ffcbfa-7487-4369-8fca-22cbae166e61",
   "metadata": {},
   "outputs": [
    {
     "name": "stdout",
     "output_type": "stream",
     "text": [
      "['Markus', 'Claudia']\n"
     ]
    }
   ],
   "source": [
    "print(namenListe[::3]) #gibt jedes dritte Element aus"
   ]
  },
  {
   "cell_type": "code",
   "execution_count": 34,
   "id": "5f311eb1-6c24-402d-9f22-bce82c88f712",
   "metadata": {},
   "outputs": [
    {
     "name": "stdout",
     "output_type": "stream",
     "text": [
      "['Jasmine', 'Christoph']\n"
     ]
    }
   ],
   "source": [
    "print(namenListe[1::3]) #gibt jedes dritte Element aus, aber startet erst beim 2 Element"
   ]
  },
  {
   "cell_type": "code",
   "execution_count": 35,
   "id": "20dd7eb9-b7fa-4bc7-9c3c-826fb4d659d5",
   "metadata": {},
   "outputs": [
    {
     "name": "stdout",
     "output_type": "stream",
     "text": [
      "['Claudia', 'Christoph', 'Josef']\n",
      "['Markus', 'Jasmine', 'Mirco', 'Claudia', 'Christoph', 'Josef']\n"
     ]
    }
   ],
   "source": [
    "print(namenListe[3:6])\n",
    "print(namenListe[::]) #umständlich Methode um die ganze Listen auszugeben, aber es funktioniert"
   ]
  },
  {
   "cell_type": "markdown",
   "id": "0572364e-6206-4670-814d-6131f1131054",
   "metadata": {},
   "source": [
    "Mein **Tipp** einfach zuhause 5 Minuten investieren und alle Variante durchprobieren!!! Die Logik wird uns das ganze Semester begleiten."
   ]
  },
  {
   "cell_type": "markdown",
   "id": "1c560896-9fe5-4c3f-90c8-1b3f5f060603",
   "metadata": {},
   "source": [
    "##### range()"
   ]
  },
  {
   "cell_type": "markdown",
   "id": "cc94a464-72df-47d4-96e9-9a1b4e286a70",
   "metadata": {},
   "source": [
    "Eine wichtige Funktion um Zahlenmengen zu erstellen, ist `range()`.\n",
    "\n",
    "Die Syntax erinnert an eine For-Schleife, range([Startwert],Endwert,[Schrittweite]).\n",
    "\n",
    "Der Startwert ist inklusive, der Endwert exklusive.\n",
    "\n",
    "`range()`wird nicht nur bei Listen von Interesse sein, sondern uns das ganze Jahr verfolgen (**sehr wichtig**)"
   ]
  },
  {
   "cell_type": "code",
   "execution_count": 36,
   "id": "b2278091-3fb8-4cef-9eb3-5807cea73f89",
   "metadata": {},
   "outputs": [
    {
     "name": "stdout",
     "output_type": "stream",
     "text": [
      "[0, 1, 2, 3, 4, 5]\n"
     ]
    }
   ],
   "source": [
    "zahlenListe=list(range(6))\n",
    "print(zahlenListe)"
   ]
  },
  {
   "cell_type": "code",
   "execution_count": 37,
   "id": "31ab8512-518a-4ee0-8a89-8100aa37efb4",
   "metadata": {},
   "outputs": [
    {
     "name": "stdout",
     "output_type": "stream",
     "text": [
      "[4, 5, 6, 7, 8, 9, 10]\n"
     ]
    }
   ],
   "source": [
    "zahlenListe=list(range(4,11))\n",
    "print(zahlenListe)"
   ]
  },
  {
   "cell_type": "code",
   "execution_count": 38,
   "id": "5f465665-658a-49ec-b4d7-b0a102da2d0c",
   "metadata": {},
   "outputs": [
    {
     "name": "stdout",
     "output_type": "stream",
     "text": [
      "[5, 11, 17, 23]\n"
     ]
    }
   ],
   "source": [
    "zahlenListe=list(range(5,25,6))\n",
    "print(zahlenListe)"
   ]
  },
  {
   "cell_type": "code",
   "execution_count": 39,
   "id": "665c0b4e-81ed-4fea-9b82-2c21551194eb",
   "metadata": {},
   "outputs": [
    {
     "name": "stdout",
     "output_type": "stream",
     "text": [
      "0.5753607969675542\n",
      "82\n"
     ]
    }
   ],
   "source": [
    "from random import *\n",
    "print(random())\n",
    "print(randint(1,100)) #Die Zufallszahl liegt tatsächlich zwischen 1 und 100 inklusive"
   ]
  },
  {
   "cell_type": "code",
   "execution_count": 40,
   "id": "c25be263-bb9e-459a-9c63-d20ed7386bb9",
   "metadata": {},
   "outputs": [
    {
     "name": "stdout",
     "output_type": "stream",
     "text": [
      "[77, 25, 81, 84, 62, 33, 41, 55, 71, 2, 61, 22, 39, 73, 12, 50, 59, 43, 60, 22, 35, 20, 55, 74, 7, 77, 76, 79, 13, 29, 60, 54, 26, 49, 94, 91, 45, 96, 57, 92, 23, 13, 47, 35, 2, 30, 97, 81, 96, 31, 79, 52, 28, 51, 34, 57, 19, 1, 52, 32, 68, 43, 95, 98, 57, 97, 67, 52, 31, 2, 34, 64, 40, 88, 21, 54, 90, 47, 23, 57, 75, 34, 23, 100, 55, 45, 95, 72, 14, 33, 6, 88, 83, 98, 11, 88, 89, 57, 65, 2, 95]\n",
      "1\n",
      "100\n",
      "5317\n"
     ]
    }
   ],
   "source": [
    "zufallszahlen=[]\n",
    "for i in range(101):\n",
    "    zufallszahlen.append(randint(1,100))\n",
    "\n",
    "print(zufallszahlen)\n",
    "print(min(zufallszahlen))\n",
    "print(max(zufallszahlen))\n",
    "print(sum(zufallszahlen))"
   ]
  },
  {
   "cell_type": "markdown",
   "id": "cf9610e4-e696-4d71-b096-32f15c16c67a",
   "metadata": {},
   "source": [
    "#### 2.3.1.2 Tupel"
   ]
  },
  {
   "cell_type": "markdown",
   "id": "f6c8640f-cc8f-446f-8df7-2f906a7bda43",
   "metadata": {},
   "source": [
    "**Tupel** sind ähnlich wie Listen aufgebaut, wobei wir runde Klammern () zum erzeugen verwenden. Die Einträge können nachträglich **nicht** geändert werden."
   ]
  },
  {
   "cell_type": "code",
   "execution_count": 4,
   "id": "b12e4e1f-6bf9-4e4f-8ace-73ce0c64449e",
   "metadata": {},
   "outputs": [
    {
     "name": "stdout",
     "output_type": "stream",
     "text": [
      "(1, 2, 3, 4)\n"
     ]
    }
   ],
   "source": [
    "tupel=(1,2,3,4) #Initialisierung des Tuples\n",
    "print(tupel)"
   ]
  },
  {
   "cell_type": "code",
   "execution_count": 42,
   "id": "2f6394ca-8d49-4fde-9ea7-9a2254789b7f",
   "metadata": {},
   "outputs": [
    {
     "name": "stdout",
     "output_type": "stream",
     "text": [
      "3\n"
     ]
    }
   ],
   "source": [
    "print(tupel[2])"
   ]
  },
  {
   "cell_type": "code",
   "execution_count": 43,
   "id": "39f5fd42-8ef2-4c56-a6ca-9af688bbe49a",
   "metadata": {},
   "outputs": [
    {
     "ename": "TypeError",
     "evalue": "'tuple' object does not support item assignment",
     "output_type": "error",
     "traceback": [
      "\u001b[1;31m---------------------------------------------------------------------------\u001b[0m",
      "\u001b[1;31mTypeError\u001b[0m                                 Traceback (most recent call last)",
      "Cell \u001b[1;32mIn[43], line 1\u001b[0m\n\u001b[1;32m----> 1\u001b[0m tupel[\u001b[38;5;241m2\u001b[39m]\u001b[38;5;241m=\u001b[39m\u001b[38;5;241m77\u001b[39m\n",
      "\u001b[1;31mTypeError\u001b[0m: 'tuple' object does not support item assignment"
     ]
    }
   ],
   "source": [
    "tupel[2]=77 #das funktioniert nicht"
   ]
  },
  {
   "cell_type": "code",
   "execution_count": 44,
   "id": "f9ad5e90-4b08-46d5-9464-e9ce3acbe3e1",
   "metadata": {},
   "outputs": [
    {
     "name": "stdout",
     "output_type": "stream",
     "text": [
      "('lisa', 'ali')\n"
     ]
    }
   ],
   "source": [
    "nameTupel=('max', 'lisa','ali','jasmin')\n",
    "print(nameTupel[1:3]) #auch Slicing "
   ]
  },
  {
   "cell_type": "markdown",
   "id": "2518fa10-9ba8-4a08-9d21-0a8843e2ffaa",
   "metadata": {},
   "source": [
    "#### 2.3.1.3 Dictionarys"
   ]
  },
  {
   "cell_type": "markdown",
   "id": "616ef1bc-0845-455b-8b89-257f57f42692",
   "metadata": {},
   "source": [
    "Dictionarys werden durch verschiedene Schlüssel (Keys) und die dazugehörigen Werte (Values) definiert. Jeder Key besitzt mindestens einen Value. Die Dictionarys werden mittels geschwungener Klammern {} definiert.\n",
    "\n",
    "Syntax:\n",
    "\n",
    "dic={  \n",
    "    \"Key01\":\"Wert1\",  \n",
    "    \"Key02\":\"Wert2\",  \n",
    "    \"Key03\":\"Wert3\"    \n",
    "    }"
   ]
  },
  {
   "cell_type": "code",
   "execution_count": 45,
   "id": "d6adbbd1-261a-4cb6-984d-ab9f5d0cd212",
   "metadata": {},
   "outputs": [
    {
     "name": "stdout",
     "output_type": "stream",
     "text": [
      "{'Key01': 'Wert1', 'Key02': 'Wert2', 'Key03': 'Wert3'}\n"
     ]
    }
   ],
   "source": [
    "dic={\n",
    "    \"Key01\":\"Wert1\",\n",
    "    \"Key02\":\"Wert2\",\n",
    "    \"Key03\":\"Wert3\"\n",
    "    }\n",
    "print(dic)"
   ]
  },
  {
   "cell_type": "code",
   "execution_count": 46,
   "id": "fa36cae6-04ba-4661-beb8-89f3970a6f37",
   "metadata": {},
   "outputs": [
    {
     "name": "stdout",
     "output_type": "stream",
     "text": [
      "<class 'dict'>\n"
     ]
    }
   ],
   "source": [
    "dic1={}\n",
    "print(type(dic1))"
   ]
  },
  {
   "cell_type": "code",
   "execution_count": 47,
   "id": "cb98407e-8888-41ac-a0b8-3bf54d1a8b69",
   "metadata": {},
   "outputs": [
    {
     "name": "stdout",
     "output_type": "stream",
     "text": [
      "{'Wien': 1, 'NOe': 2, 'OOe': 4, 'Sbg': 5}\n"
     ]
    }
   ],
   "source": [
    "plz={\"Wien\":1, \"NOe\":2, \"OOe\":4,\"Sbg\":5}\n",
    "print(plz)"
   ]
  },
  {
   "cell_type": "code",
   "execution_count": 48,
   "id": "0b2de966-2e68-4831-b752-4774281237e2",
   "metadata": {},
   "outputs": [
    {
     "name": "stdout",
     "output_type": "stream",
     "text": [
      "5\n"
     ]
    }
   ],
   "source": [
    "print(plz[\"Sbg\"])"
   ]
  },
  {
   "cell_type": "code",
   "execution_count": 49,
   "id": "0fd0aa35-dda2-47bf-9dd9-e6da8f702c3b",
   "metadata": {},
   "outputs": [
    {
     "name": "stdout",
     "output_type": "stream",
     "text": [
      "['karl', 'franz', 1]\n",
      "karl\n"
     ]
    }
   ],
   "source": [
    "teams={\"1a\":[\"karl\",\"franz\",1],\"1b\":[\"lisa\",\"moni\",2],\"2a\":[3,\"max\",\"ali\",\"sepp\"]}\n",
    "print(teams[\"1a\"])\n",
    "print(teams[\"1a\"][0])"
   ]
  },
  {
   "cell_type": "markdown",
   "id": "cbe64123-043a-460a-93ce-62f358312c14",
   "metadata": {},
   "source": [
    "Man kann Dictionaries leicht erweitern, sowohl um einen Key als auch um Values."
   ]
  },
  {
   "cell_type": "code",
   "execution_count": 50,
   "id": "e01ed1ef-c78c-4427-919d-82567d8f9efc",
   "metadata": {},
   "outputs": [
    {
     "name": "stdout",
     "output_type": "stream",
     "text": [
      "{'1a': ['karl', 'franz', 1], '1b': ['lisa', 'moni', 2], '2a': [3, 'max', 'ali', 'sepp'], '3b': [4, 'Ben', 'Jordan']}\n"
     ]
    }
   ],
   "source": [
    "teams[\"3b\"]=[4,\"Ben\",\"Jordan\"]\n",
    "print(teams)"
   ]
  },
  {
   "cell_type": "code",
   "execution_count": 51,
   "id": "637637fa-5669-43e4-b494-d9699bc7c5c6",
   "metadata": {},
   "outputs": [
    {
     "name": "stdout",
     "output_type": "stream",
     "text": [
      "{'1a': ['karl', 'franz', 'marie', 1], '1b': ['lisa', 'moni', 2], '2a': [3, 'max', 'ali', 'sepp'], '3b': [4, 'Ben', 'Jordan']}\n"
     ]
    }
   ],
   "source": [
    "teams[\"1a\"]=[\"karl\",\"franz\",\"marie\",1] #der Eintrag wird überschrieben\n",
    "print(teams)"
   ]
  },
  {
   "cell_type": "markdown",
   "id": "0b8a8f03-2b6a-4afd-84e8-f855ebd3fd0e",
   "metadata": {},
   "source": [
    "Man kann auch mit einem leeren Dictionary starten und es ständig erweitern."
   ]
  },
  {
   "cell_type": "code",
   "execution_count": 52,
   "id": "9f257dca-e7eb-41b0-9be7-4bde5f85c971",
   "metadata": {},
   "outputs": [],
   "source": [
    "monster_01={}"
   ]
  },
  {
   "cell_type": "code",
   "execution_count": 53,
   "id": "0e96b307-8fb7-4e20-bbea-77159bae23f3",
   "metadata": {},
   "outputs": [],
   "source": [
    "monster_01[\"farbe\"]='blue'"
   ]
  },
  {
   "cell_type": "code",
   "execution_count": 54,
   "id": "953f52da-f78a-467d-978f-29793ca066f9",
   "metadata": {},
   "outputs": [],
   "source": [
    "monster_01[\"punkte\"]=10"
   ]
  },
  {
   "cell_type": "code",
   "execution_count": 55,
   "id": "cc7219c8-d86c-4bff-831c-f4f4d85c401d",
   "metadata": {},
   "outputs": [
    {
     "name": "stdout",
     "output_type": "stream",
     "text": [
      "{'farbe': 'blue', 'punkte': 10, 'x-Wert': 0.0, 'y-Wert': 1.0, 'z-Wert': 0.0}\n"
     ]
    }
   ],
   "source": [
    "monster_01[\"x-Wert\"]=0.0\n",
    "monster_01[\"y-Wert\"]=1.0\n",
    "monster_01[\"z-Wert\"]=0.0\n",
    "print(monster_01)"
   ]
  },
  {
   "cell_type": "markdown",
   "id": "f91accb7-1f16-4177-92a0-77c913dc3b64",
   "metadata": {},
   "source": [
    "Jetzt komme ich drauf, das Monster lebt nur in einer zwei Dmensionalen Welt, also brauche ich keine z-Koordinate.\n",
    "\n",
    "Was tun? **del** verwenden!\n",
    "\n",
    "**Achtung** del ist irreversibel (kann nicht rückgängig gemacht werden)!"
   ]
  },
  {
   "cell_type": "code",
   "execution_count": 56,
   "id": "a03a84da-995d-4c47-9ddf-eba130439a59",
   "metadata": {},
   "outputs": [
    {
     "name": "stdout",
     "output_type": "stream",
     "text": [
      "{'farbe': 'blue', 'punkte': 10, 'x-Wert': 0.0, 'y-Wert': 1.0}\n"
     ]
    }
   ],
   "source": [
    "del monster_01[\"z-Wert\"]\n",
    "print(monster_01)"
   ]
  },
  {
   "cell_type": "markdown",
   "id": "dd8eaefe-b6c4-4aab-b666-5f8d1685d8e0",
   "metadata": {},
   "source": [
    "Wenn man sich vorstellt unser Monster ist teil eines Spieles und ich möchte im Spiel abfragen, mit welcher Geschwindigkeit kommt das Monster auf mich zu, dann gebe ich folgendes ein,\n",
    "\n",
    "print(monster_01[\"geschw\"]').\n",
    "\n",
    "Das würde aber zu einer Fehlermeldung und im schlimmsten Fall zum Abbruch des Spieles führen.\n",
    "\n",
    "Das bringt uns zur Funktion `get()`. Hier kann man steuern, welcher \"Wert\" ausgegeben wird, wenn das Schlüssel-Werte-Paar nicht vorhanden ist."
   ]
  },
  {
   "cell_type": "code",
   "execution_count": 57,
   "id": "8f049c20-639f-4be0-90da-ad408742f7d4",
   "metadata": {},
   "outputs": [
    {
     "name": "stdout",
     "output_type": "stream",
     "text": [
      "Keine Geschwindigkeit vorhanden\n"
     ]
    }
   ],
   "source": [
    "print(monster_01.get(\"geschw\",\"Keine Geschwindigkeit vorhanden\"))"
   ]
  },
  {
   "cell_type": "code",
   "execution_count": 58,
   "id": "25c8b11c-460d-442d-acf8-b27a4c29d0ff",
   "metadata": {},
   "outputs": [
    {
     "name": "stdout",
     "output_type": "stream",
     "text": [
      "2.5\n",
      "{'farbe': 'blue', 'punkte': 10, 'x-Wert': 0.0, 'y-Wert': 1.0, 'geschw': 2.5}\n"
     ]
    }
   ],
   "source": [
    "monster_01[\"geschw\"]=2.5\n",
    "print(monster_01.get(\"geschw\",\"Keine Geschwindigkeit vorhanden\"))\n",
    "print(monster_01)"
   ]
  },
  {
   "cell_type": "markdown",
   "id": "d5cdd267-3d4a-4ab1-9acf-327a4431839d",
   "metadata": {},
   "source": [
    "Was tun, wenn man ein Dictionary hat, aber nicht alle Schlüssel kennt?\n",
    "\n",
    "Die Antwort, `keys()` hilft uns weiter."
   ]
  },
  {
   "cell_type": "code",
   "execution_count": 59,
   "id": "a9fb30e8-51e8-4c4f-b866-6ec08cfd62c3",
   "metadata": {},
   "outputs": [
    {
     "name": "stdout",
     "output_type": "stream",
     "text": [
      "<built-in method keys of dict object at 0x0000024D3A6C56C0>\n",
      "dict_keys(['farbe', 'punkte', 'x-Wert', 'y-Wert', 'geschw'])\n"
     ]
    }
   ],
   "source": [
    "print(monster_01.keys)  #Klammern sind wichtig\n",
    "print(monster_01.keys())"
   ]
  },
  {
   "cell_type": "markdown",
   "id": "16e67e00-2bd5-4e09-bdc6-cac7a9ca2e30",
   "metadata": {},
   "source": [
    "Man sieht, dass die Keys als eine Liste ausgegeben werden. Damit kann man schnell über alle Keys eine Schleife laufen lassen."
   ]
  },
  {
   "cell_type": "code",
   "execution_count": 60,
   "id": "a29efed4-5bfa-44f3-9efd-36de9aec56e2",
   "metadata": {},
   "outputs": [
    {
     "name": "stdout",
     "output_type": "stream",
     "text": [
      "farbe\n",
      "punkte\n",
      "x-Wert\n",
      "y-Wert\n",
      "geschw\n"
     ]
    }
   ],
   "source": [
    "for k in monster_01.keys():\n",
    "    print(k)"
   ]
  },
  {
   "cell_type": "markdown",
   "id": "8ea6b248-21b9-4ccc-82c7-feb37f47c73e",
   "metadata": {},
   "source": [
    "Man kann sich auch, die Schlüssel-Werte-Paare als List ausgeben lassen."
   ]
  },
  {
   "cell_type": "code",
   "execution_count": 61,
   "id": "6fa51f33-1411-483a-968a-b3907d4484c7",
   "metadata": {},
   "outputs": [
    {
     "data": {
      "text/plain": [
       "dict_items([('farbe', 'blue'), ('punkte', 10), ('x-Wert', 0.0), ('y-Wert', 1.0), ('geschw', 2.5)])"
      ]
     },
     "execution_count": 61,
     "metadata": {},
     "output_type": "execute_result"
    }
   ],
   "source": [
    "monster_01.items()"
   ]
  },
  {
   "cell_type": "code",
   "execution_count": 62,
   "id": "e6d4f27f-18ab-4e8e-9667-5aeab2584c8c",
   "metadata": {},
   "outputs": [
    {
     "name": "stdout",
     "output_type": "stream",
     "text": [
      "Farbe hat den Wert blue\n",
      "Punkte hat den Wert 10\n",
      "X-Wert hat den Wert 0.0\n",
      "Y-Wert hat den Wert 1.0\n",
      "Geschw hat den Wert 2.5\n"
     ]
    }
   ],
   "source": [
    "for k,v in monster_01.items():\n",
    "    print(f\"{k.title()} hat den Wert {v}\") \n",
    "\n",
    "# f leitet eine formatiert Ausgabe ein und title() nützt man damit der Anfangsbuchstabe groß geschrieben wird"
   ]
  },
  {
   "cell_type": "markdown",
   "id": "db2dd9a0-8260-43c6-9226-af6a65371872",
   "metadata": {},
   "source": [
    "Man kann Dictionaries auch **Verschachteln**. Dazu folgenden ein paar Beispiele."
   ]
  },
  {
   "cell_type": "code",
   "execution_count": 63,
   "id": "cdd29baf-0b3f-482e-8ba4-2a0e91785096",
   "metadata": {},
   "outputs": [],
   "source": [
    "# Liste von Dictionaries\n",
    "monster_01={\"farbe\":\"blau\",\"punkte\":10}\n",
    "monster_02={\"farbe\":\"rot\",\"punkte\":10}\n",
    "monster_03={\"farbe\":\"blau\",\"punkte\":20}\n",
    "\n",
    "monsters=[monster_01,monster_02,monster_03]"
   ]
  },
  {
   "cell_type": "code",
   "execution_count": 64,
   "id": "ffd80bb1-0eff-45a1-b849-d1bd09b0e4aa",
   "metadata": {},
   "outputs": [
    {
     "name": "stdout",
     "output_type": "stream",
     "text": [
      "[{'farbe': 'blau', 'punkte': 10}, {'farbe': 'rot', 'punkte': 10}, {'farbe': 'blau', 'punkte': 20}]\n"
     ]
    }
   ],
   "source": [
    "print(monsters)"
   ]
  },
  {
   "cell_type": "code",
   "execution_count": 65,
   "id": "333076f9-1018-4ab8-a23a-0bd05e268df3",
   "metadata": {},
   "outputs": [
    {
     "name": "stdout",
     "output_type": "stream",
     "text": [
      "{'Sg': ['Max', 'Hans'], 'Gut': ['Sara', 'Ali', 'Marco', 'Mara'], 'Bef': [], 'Gen': None, 'NG': []}\n"
     ]
    }
   ],
   "source": [
    "# Listen in Dictionries\n",
    "noten={\n",
    "    \"Sg\":[\"Max\",\"Hans\"],\n",
    "    \"Gut\":[\"Sara\", \"Ali\", \"Marco\",\"Mara\"],\n",
    "    \"Bef\":[],\n",
    "    \"Gen\":None,\n",
    "    \"NG\":[]\n",
    "}\n",
    "print(noten)"
   ]
  },
  {
   "cell_type": "code",
   "execution_count": 66,
   "id": "608abc19-c12d-4ed4-97a0-0110cd5764fc",
   "metadata": {},
   "outputs": [
    {
     "name": "stdout",
     "output_type": "stream",
     "text": [
      "{'aeinstein': {'vorname': 'Albert', 'nachname': 'Einstein'}, 'mcurie': {'vorname': 'Marie', 'nachname': 'Curie'}}\n"
     ]
    }
   ],
   "source": [
    "#Dictionary von Dictionaries\n",
    "users={\n",
    "    \"aeinstein\":{\"vorname\":\"Albert\",\n",
    "                 \"nachname\":\"Einstein\"},\n",
    "    \"mcurie\":{\"vorname\":\"Marie\",\n",
    "              \"nachname\":\"Curie\"}\n",
    "    }\n",
    "                  \n",
    "print(users)         "
   ]
  },
  {
   "cell_type": "markdown",
   "id": "df81023e-be30-484b-ba37-2e71a0772f7a",
   "metadata": {},
   "source": [
    "### 2.3.1 Operatoren"
   ]
  },
  {
   "cell_type": "markdown",
   "id": "6237eba6-fde3-436f-b9cd-4b1ecaa2262d",
   "metadata": {},
   "source": [
    "$$\n",
    "\\begin{array}{|c|c|}\n",
    "\\hline\n",
    "\\text{Operator} & \\text{Funktion} \\\\\n",
    "\\hline\n",
    "\\text{=} & \\text{Zuweisungsoperator}  \\\\\n",
    "\\text{+ -} & \\text{Vorzeichen}  \\\\\n",
    "\\text{+ - * /} & \\text{Grundrechnungsarten}  \\\\\n",
    "\\text{//} & \\text{ganzzahlige Division (10//3 ergibt 3)}  \\\\\n",
    "\\text{\\%} & \\text{modulo Operator }  \\\\\n",
    "\\text{**} & \\text{Exponentialfunktion 2**4 ergibt 16}  \\\\\n",
    "\\text{+= -= *= /=} & \\text{Zuweisung + Grundrechnungsart}  \\\\\n",
    "\\hline\n",
    "\\end{array}\n",
    "$$"
   ]
  },
  {
   "cell_type": "markdown",
   "id": "71ad8167-416f-4d6e-a814-2aa860696ab8",
   "metadata": {},
   "source": [
    "Vergleichsoperatoren (binär)"
   ]
  },
  {
   "cell_type": "markdown",
   "id": "3937b2a8-e92f-465d-bb5e-dcb6ee78f969",
   "metadata": {},
   "source": [
    "$$\n",
    "\\begin{array}{|c|c|}\n",
    "\\hline\n",
    "\\text{Operator} & \\text{Funktion} \\\\\n",
    "\\hline\n",
    "\\text{= =} & \\text{Gleichheit im Sinne des Inhalts}  \\\\\n",
    "\\text{!= } & \\text{Ungleichheit}  \\\\\n",
    "\\text{< <= >= >} & \\text{Relationsoperatoren}  \\\\\n",
    "\\text{is} & \\text{Gleichheit im Sinne der Referenz (Speicheradresse)}  \\\\\n",
    "\\text{is not} & \\text{Ungleichheit }  \\\\\n",
    "\\text{in} & \\text{Element enthalten, z.B in einer Liste}  \\\\\n",
    "\\text{\\& |} & \\text{Und | Oder}  \\\\\n",
    "\\hline\n",
    "\\end{array}\n",
    "$$"
   ]
  },
  {
   "cell_type": "markdown",
   "id": "585fdf5c-3a29-49e4-bf2c-0052f39a907c",
   "metadata": {},
   "source": [
    "Vergleichsoperatoren (logisch) (Sind als Short-Cut-Evalution ausgeführt. Vgl mit && in Java statt &)"
   ]
  },
  {
   "cell_type": "markdown",
   "id": "9b59d828-dafd-4723-a7ca-5155b389d979",
   "metadata": {},
   "source": [
    "$$\n",
    "\\begin{array}{|c|c|}\n",
    "\\hline\n",
    "\\text{Operator} & \\text{Funktion} \\\\\n",
    "\\hline\n",
    "\\text{or} & \\text{logisches Oder}  \\\\\n",
    "\\text{and } & \\text{logisches Und}  \\\\\n",
    "\\text{not} & \\text{logisches nicht}  \\\\\n",
    "\\hline\n",
    "\\end{array}\n",
    "$$"
   ]
  },
  {
   "cell_type": "code",
   "execution_count": 67,
   "id": "79d5a97b-c293-48ae-abe6-366066a991f5",
   "metadata": {},
   "outputs": [
    {
     "name": "stdout",
     "output_type": "stream",
     "text": [
      "False\n"
     ]
    }
   ],
   "source": [
    "a = True\n",
    "b = False\n",
    "result = a and b  # Ergebnis: False\n",
    "print(result)"
   ]
  },
  {
   "cell_type": "code",
   "execution_count": 68,
   "id": "55cc0bc5-1d11-49c9-86a5-69ba6b8a63bf",
   "metadata": {},
   "outputs": [
    {
     "name": "stdout",
     "output_type": "stream",
     "text": [
      "1\n"
     ]
    }
   ],
   "source": [
    "a = 5  # Binär: 0101\n",
    "b = 3  # Binär: 0011\n",
    "result = a & b  # Ergebnis: 1 (Binär: 0001)\n",
    "print(result)\n"
   ]
  },
  {
   "cell_type": "markdown",
   "id": "b42058fe-e2f6-4ae9-95d7-0051dc1f7cef",
   "metadata": {},
   "source": [
    "## 2.4 Selektion"
   ]
  },
  {
   "cell_type": "markdown",
   "id": "38ee247b-c0d9-4771-b590-f18b93e44de2",
   "metadata": {},
   "source": [
    "### 2.4.1 If-elif-else Anweisung"
   ]
  },
  {
   "cell_type": "raw",
   "id": "2f28e1e4-f97d-4553-bc11-f439f3b39252",
   "metadata": {},
   "source": [
    "if Bedingung1:\n",
    "    Anweisung1\n",
    "    Anweisung2\n",
    "    Anweisung3\n",
    "elif Bedingung2:\n",
    "    Anweisung4\n",
    "    Anweisung5\n",
    "else:\n",
    "    Anweisung6\n",
    "\n",
    "weiter mit normalen Code\n"
   ]
  },
  {
   "cell_type": "code",
   "execution_count": 69,
   "id": "e5a26aa6-911a-45cd-985e-eec0a83aae82",
   "metadata": {},
   "outputs": [
    {
     "name": "stdout",
     "output_type": "stream",
     "text": [
      "25\n"
     ]
    }
   ],
   "source": [
    "x=5\n",
    "if(x>0):\n",
    " x=x**2\n",
    " print(x)\n",
    "else:\n",
    " x=x-2\n",
    " print(x)"
   ]
  },
  {
   "cell_type": "code",
   "execution_count": 70,
   "id": "d880dd2f-ed16-4970-8b19-84ae6e671e9c",
   "metadata": {},
   "outputs": [
    {
     "name": "stdout",
     "output_type": "stream",
     "text": [
      "Eintrittspreis ist 9€ \n"
     ]
    }
   ],
   "source": [
    "körperGröße=1.8\n",
    "\n",
    "if körperGröße<1.25:\n",
    "    print(\"Eintrittspreis ist 0€ \")\n",
    "elif körperGröße<1.5:\n",
    "    print(\"Eintrittspreis ist 5€ \")\n",
    "else:\n",
    "    print(\"Eintrittspreis ist 9€ \")\n"
   ]
  },
  {
   "cell_type": "code",
   "execution_count": 2,
   "id": "ebdb5afb-3f29-4e57-8f81-0cf93f8d6955",
   "metadata": {},
   "outputs": [
    {
     "name": "stdout",
     "output_type": "stream",
     "text": [
      "Audi\n",
      "BMW\n",
      "Mercedes\n",
      "Opel\n",
      "Porsche\n",
      "VW\n"
     ]
    }
   ],
   "source": [
    "cars=[\"audi\",\"bmw\",\"mercedes\",\"opel\",\"porsche\",\"vw\"]\n",
    "\n",
    "for auto in cars:\n",
    "    if auto==\"bmw\" or auto==\"vw\":\n",
    "        print(auto.upper())\n",
    "    else:\n",
    "        print(auto.title())"
   ]
  },
  {
   "cell_type": "code",
   "execution_count": 72,
   "id": "558dbc1b-f632-4d19-8bf7-1e71350c7fb5",
   "metadata": {},
   "outputs": [
    {
     "name": "stdout",
     "output_type": "stream",
     "text": [
      "Tolles Auto vorhanden\n"
     ]
    }
   ],
   "source": [
    "if \"bmw\" in cars:\n",
    "    print (\"Tolles Auto vorhanden\")"
   ]
  },
  {
   "cell_type": "code",
   "execution_count": 3,
   "id": "a73fe57c-667a-44b6-aa31-3a99afa9aa76",
   "metadata": {},
   "outputs": [
    {
     "name": "stdout",
     "output_type": "stream",
     "text": [
      "Kein Elektroschrott vorhanden\n"
     ]
    }
   ],
   "source": [
    "if \"tesla\" not in cars:\n",
    "    print (\"Kein Elektroschrott vorhanden\")"
   ]
  },
  {
   "cell_type": "markdown",
   "id": "aafd73b3-eadc-44fe-ba46-fa09f79b41ec",
   "metadata": {},
   "source": [
    "Ein kleine Besonderheit, wenn man\n",
    "\n",
    "    if x:\n",
    "        ...\n",
    "        \n",
    "anwendet, dann wird der Block ausgeführt, wenn\n",
    "\n",
    "- x eine Zahl ungleich 0 ist,\n",
    "- x eine nichtleere Zeichenkette ist,\n",
    "- x True ist,\n",
    "- x eine Liste, Tupel, Set mit mind. einen El. ist,\n",
    "- x ein initialisiertes Objekt ist (nicht None)"
   ]
  },
  {
   "cell_type": "markdown",
   "id": "2d26f1a2-c7f4-42a4-b4a5-8defb26d099c",
   "metadata": {},
   "source": [
    "**pass-Schlüsselwort**\n",
    "\n",
    "Jeder if-else Zweig muss mit Code gefüllt sein. Will man aber, die Selektion Testen und später alle Zweige befüllen, hilft dass Schlüsselwort **pass**.\n",
    "\n",
    "Man kann pass immer dort verwenden, wenn ein eingerückter Code erwarte wird."
   ]
  },
  {
   "cell_type": "code",
   "execution_count": 74,
   "id": "37cc6e0e-e973-42e6-bd6b-9d8db9bb1300",
   "metadata": {},
   "outputs": [],
   "source": [
    "x=0\n",
    "\n",
    "if x:\n",
    "    print(x)\n",
    "else:\n",
    "    pass"
   ]
  },
  {
   "cell_type": "markdown",
   "id": "5349787c-1baa-4e37-a2e2-426d0560b277",
   "metadata": {},
   "source": [
    "### 2.4.2 Switch-Case-Anweisung"
   ]
  },
  {
   "cell_type": "markdown",
   "id": "61f23da4-94df-4909-857d-b2b1d70db1d6",
   "metadata": {},
   "source": [
    "Diese Kapitel ist so schnell zu Ende, wie es begonnen hat, weil es in Python keine solche Struktur gibt."
   ]
  },
  {
   "cell_type": "markdown",
   "id": "443ad5a2-f7cf-4d19-8e08-f237c5923b45",
   "metadata": {},
   "source": [
    "## 2.5 Iteration"
   ]
  },
  {
   "cell_type": "markdown",
   "id": "f54f0453-b629-49ce-9671-8a9a56332c39",
   "metadata": {},
   "source": [
    "### 2.5.1 While Schleife"
   ]
  },
  {
   "cell_type": "raw",
   "id": "0e78f357-5a6a-45c7-944d-eaec16e541b4",
   "metadata": {},
   "source": [
    "while Bedingung:\n",
    "    Anweisung1\n",
    "        ...\n",
    "    Anweisung_n\n",
    "\n",
    "else:             #Optional \n",
    "    Anweisung1\n",
    "        ...\n",
    "    Anweisung_n"
   ]
  },
  {
   "cell_type": "code",
   "execution_count": 75,
   "id": "beab973d-8fe5-4d65-bea3-693d564ada71",
   "metadata": {},
   "outputs": [
    {
     "name": "stdin",
     "output_type": "stream",
     "text": [
      "\n",
      " gib einen beliebigen Text ein, ich wiederhole ihn:\n",
      " zum beenden 'end' eingeben Hallo\n"
     ]
    },
    {
     "name": "stdout",
     "output_type": "stream",
     "text": [
      "Hallo\n"
     ]
    },
    {
     "name": "stdin",
     "output_type": "stream",
     "text": [
      "\n",
      " gib einen beliebigen Text ein, ich wiederhole ihn:\n",
      " zum beenden 'end' eingeben Klasse\n"
     ]
    },
    {
     "name": "stdout",
     "output_type": "stream",
     "text": [
      "Klasse\n"
     ]
    },
    {
     "name": "stdin",
     "output_type": "stream",
     "text": [
      "\n",
      " gib einen beliebigen Text ein, ich wiederhole ihn:\n",
      " zum beenden 'end' eingeben end\n"
     ]
    },
    {
     "name": "stdout",
     "output_type": "stream",
     "text": [
      "end\n"
     ]
    }
   ],
   "source": [
    "prompt=\"\\n Gib einen beliebigen Text ein, ich wiederhole ihn:\"\n",
    "prompt+=\"\\n Zum beenden 'end' eingeben\"\n",
    "message=\"\"\n",
    "while message!=\"end\":\n",
    "    message=input(prompt)\n",
    "    print(message)"
   ]
  },
  {
   "cell_type": "code",
   "execution_count": 82,
   "id": "bbe0ba49-7931-493a-bac7-c539fe012767",
   "metadata": {},
   "outputs": [
    {
     "name": "stdout",
     "output_type": "stream",
     "text": [
      "0 : 5\n",
      "1 : 6\n",
      "2 : 7\n",
      "3 : 8\n",
      "4 : 9\n",
      "5 : 10\n",
      "6 : 11\n",
      "7 : 12\n"
     ]
    }
   ],
   "source": [
    "a=range(5,15)\n",
    "i=0\n",
    "while i<8:\n",
    "    print(\"{:d} : {:d}\".format(i,a[i]))\n",
    "    i+=1"
   ]
  },
  {
   "cell_type": "code",
   "execution_count": 1,
   "id": "04f5c22c-01d6-49ca-9283-851795abdccd",
   "metadata": {},
   "outputs": [
    {
     "name": "stdout",
     "output_type": "stream",
     "text": [
      "['Hund', 'Katze', 'Hund', 'Goldfisch', 'Hase', 'Hund', 'Katze']\n",
      "['Katze', 'Goldfisch', 'Hase', 'Katze']\n"
     ]
    }
   ],
   "source": [
    "#while in Listen anwenden\n",
    "pets=['Hund','Katze','Hund','Goldfisch','Hase','Hund','Katze']\n",
    "print(pets)\n",
    "\n",
    "while 'Hund' in pets:\n",
    "    pets.remove('Hund')\n",
    "\n",
    "print(pets)"
   ]
  },
  {
   "cell_type": "markdown",
   "id": "226325ef-4492-4472-815b-10364228c61f",
   "metadata": {},
   "source": [
    "### 2.5.2 For Schleife"
   ]
  },
  {
   "cell_type": "raw",
   "id": "e8b7b8eb-928b-4d6a-bbda-740ccb83db30",
   "metadata": {},
   "source": [
    "for <variable> in <sequence>:\n",
    "    <statements>\n",
    "else:\n",
    "    <statements>"
   ]
  },
  {
   "cell_type": "code",
   "execution_count": 6,
   "id": "888a935f-3393-463d-888b-1f378961a360",
   "metadata": {},
   "outputs": [
    {
     "name": "stdout",
     "output_type": "stream",
     "text": [
      "Katze\n",
      "Goldfisch\n",
      "Hase\n",
      "Katze\n"
     ]
    }
   ],
   "source": [
    "for i in pets:\n",
    "    print(i)"
   ]
  },
  {
   "cell_type": "code",
   "execution_count": 10,
   "id": "c04dbac7-c79e-4c1d-96c7-46141501cae1",
   "metadata": {},
   "outputs": [
    {
     "name": "stdout",
     "output_type": "stream",
     "text": [
      "1000\n",
      "950\n",
      "900\n",
      "850\n",
      "800\n",
      "750\n",
      "700\n",
      "650\n",
      "600\n",
      "550\n",
      "500\n",
      "450\n",
      "400\n",
      "350\n",
      "300\n",
      "250\n",
      "200\n",
      "150\n",
      "100\n",
      "50\n",
      "0\n"
     ]
    }
   ],
   "source": [
    "for var in range(1000,-1,-50):\n",
    "    print(var)"
   ]
  },
  {
   "cell_type": "code",
   "execution_count": 16,
   "id": "7d6d727f-57bf-4916-ac87-263a8beb8623",
   "metadata": {},
   "outputs": [
    {
     "name": "stdout",
     "output_type": "stream",
     "text": [
      "[1, 2, 3, 4, 5, 6, 7, 8, 9, 10]\n",
      "[1, 4, 27, 256, 3125, 46656, 823543, 16777216, 387420489, 10000000000]\n"
     ]
    }
   ],
   "source": [
    "#Aus einer Liste eine neue Liste erzeugen\n",
    "liste01=list(range(1,11))\n",
    "liste02=[x**x for x in liste01]\n",
    "print(liste01)\n",
    "print(liste02)"
   ]
  },
  {
   "cell_type": "code",
   "execution_count": 20,
   "id": "01666bfe-32b8-4849-a7ab-3509e54d7c48",
   "metadata": {},
   "outputs": [
    {
     "name": "stdout",
     "output_type": "stream",
     "text": [
      "bla bla bla bla bla "
     ]
    }
   ],
   "source": [
    "#for Schleife \"ohne\" Variable\n",
    "for _ in range(5):\n",
    "    print(\"bla\", end=\" \")"
   ]
  },
  {
   "cell_type": "code",
   "execution_count": 25,
   "id": "6dc6bdbb-aab0-4f1d-bd17-53c9832f67cd",
   "metadata": {},
   "outputs": [
    {
     "name": "stdout",
     "output_type": "stream",
     "text": [
      "0\t2\t4\t6\t8\t10\t"
     ]
    }
   ],
   "source": [
    "#Slicing in for Schleife nutzen\n",
    "liste=list(range(101))\n",
    "for x in liste[0:11:2]:\n",
    "    print(x, end=\"\\t\")"
   ]
  },
  {
   "cell_type": "markdown",
   "id": "3424c5d9-1a95-464a-8117-1e3b5eb3e054",
   "metadata": {
    "tags": []
   },
   "source": [
    "## 2.6 Funktionen"
   ]
  },
  {
   "cell_type": "markdown",
   "id": "69afd5e3-2877-4d03-925c-ff52ffe4f259",
   "metadata": {},
   "source": [
    "https://www.youtube.com/watch?v=aftw0WX4oCc"
   ]
  },
  {
   "cell_type": "raw",
   "id": "a818fd9b-e410-4b7e-9920-ee4c4042dca8",
   "metadata": {},
   "source": [
    "#Syntax\n",
    "def bezeichner(para1,para2,para3):\n",
    "    Anweisung1\n",
    "    Anweisung2\n",
    "    Anweisungn\n",
    "    return"
   ]
  },
  {
   "cell_type": "code",
   "execution_count": 1,
   "id": "252f950b-0ed3-4ccb-8e3e-5ca9cf729117",
   "metadata": {},
   "outputs": [
    {
     "name": "stdout",
     "output_type": "stream",
     "text": [
      "9\n"
     ]
    }
   ],
   "source": [
    "def add(a,b):\n",
    "    return a+b\n",
    "erg=add(5,4)  \n",
    "print(erg)"
   ]
  },
  {
   "cell_type": "code",
   "execution_count": 2,
   "id": "0d1dbbf1-6db8-43a4-beda-292df6d17f1c",
   "metadata": {},
   "outputs": [
    {
     "name": "stdout",
     "output_type": "stream",
     "text": [
      "24\n",
      "2\n"
     ]
    }
   ],
   "source": [
    "#default Werte nutzen\n",
    "def mult(a,b,c=1,d=1):\n",
    "    return(a*b*c*d)\n",
    "\n",
    "print(mult(1,2,3,4))\n",
    "print(mult(2,1))\n"
   ]
  },
  {
   "cell_type": "code",
   "execution_count": 6,
   "id": "8a5d5236-da7a-4949-b22d-8b8a90883d73",
   "metadata": {},
   "outputs": [
    {
     "name": "stdout",
     "output_type": "stream",
     "text": [
      "Hallo\n",
      "3\n"
     ]
    }
   ],
   "source": [
    "#return darf man nur weglassen, wenn eine print-Anweisung vorhanden ist\n",
    "def drucke(a):\n",
    "    print(a)\n",
    "\n",
    "drucke(\"Hallo\")\n",
    "drucke(3)"
   ]
  },
  {
   "cell_type": "code",
   "execution_count": 7,
   "id": "921ad3a3-5f57-493d-8537-43d0c4827360",
   "metadata": {
    "scrolled": true
   },
   "outputs": [
    {
     "name": "stdout",
     "output_type": "stream",
     "text": [
      "(1,)\n",
      "(1, 2)\n",
      "(1, 2, 3)\n",
      "a b ('c', 'd', 'e', 'f', 'g')\n",
      "1 2 {}\n",
      "1 2 {'x': 4, 'y': 7, 'z': -2.5}\n"
     ]
    }
   ],
   "source": [
    "#man kann mit *para und **para beliebig viele Parameter übergeben. Bei *para stehen die Ergebnisse als Tupel zur Verfügung\n",
    "#bei **para als Dictionary \n",
    "def add(*zahlen):\n",
    "    print(zahlen)\n",
    "\n",
    "add(1)\n",
    "add(1,2)\n",
    "add(1,2,3)\n",
    "\n",
    "def funk1(a,b,*c):\n",
    "    print(a,b,c)\n",
    "\n",
    "funk1(\"a\",\"b\",\"c\",\"d\",\"e\",\"f\",\"g\")\n",
    "\n",
    "def funk2(a,b, **c):\n",
    "    print(a,b,c)\n",
    " \n",
    "funk2(1,2)\n",
    "funk2(1,2,x=4,y=7,z=-2.5)\n"
   ]
  }
 ],
 "metadata": {
  "kernelspec": {
   "display_name": "Python 3 (ipykernel)",
   "language": "python",
   "name": "python3"
  },
  "language_info": {
   "codemirror_mode": {
    "name": "ipython",
    "version": 3
   },
   "file_extension": ".py",
   "mimetype": "text/x-python",
   "name": "python",
   "nbconvert_exporter": "python",
   "pygments_lexer": "ipython3",
   "version": "3.13.7"
  }
 },
 "nbformat": 4,
 "nbformat_minor": 5
}
